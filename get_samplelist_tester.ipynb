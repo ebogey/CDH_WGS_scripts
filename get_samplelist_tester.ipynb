{
 "cells": [
  {
   "cell_type": "code",
   "execution_count": 3,
   "metadata": {
    "collapsed": false
   },
   "outputs": [],
   "source": [
    "from cyvcf2 import VCF\n",
    "import os.path\n",
    "import sys\n",
    "import os\n",
    "import json\n",
    "\n",
    "\n",
    "\n",
    "##Using lines from Tom's de_novo scripts on Github, cloned 7-12-16\n",
    "\n",
    "def get_all_vcfsamples(vcfile):\n",
    "    ###This will give a full list of the samples in the given vcf file###\n",
    "\n",
    "    #vcfile = input(\"Path and name of vcf file to get samples from. Must be typed correctly. /n\") # Makes you type in the name of the vcf file you are grabbing sample names from, should change at some point to make more robust\n",
    "\n",
    "    v = VCF(vcfile) # Read in as vcf to cyvcf2\n",
    "\n",
    "    sampl = v.samples() # Cyvcf2 attribute pulls out sample names and creates a list\n",
    "\n",
    "    return sampl # Return the list to check it worked\n",
    "\n",
    "\n",
    "\n",
    "def write_vcfsamples(samples, vcfile):\n",
    "\n",
    "    outfile = open((vcfile + \"_\" + \"samples.txt\"), \"w\") # Print and write the list as a text file to be used for other stuff\n",
    "\n",
    "\n",
    "    sampdump = json.dumps(samples) # Converts the list made by v.samples() to a writable string\n",
    "\n",
    "    outfile.write(sampdump) # Write list created to fiLe\n",
    "\n",
    "    outfile.close()\n",
    "\n",
    "    return samples # Return the list to check it worked\n",
    "\n",
    "\n",
    "def get_samplst(samplelist, sq, mq):\n",
    "    ###This will allow you to create a narrowed list of samples that can then be passed to cyvcf2 functions###\n",
    "\n",
    "    samplst = []\n",
    "\n",
    "    sampquery = str(sq)\n",
    "\n",
    "    modifquery = str(mq)\n",
    "\n",
    "    if modifquery == 'Exact':\n",
    "        for i in samplelist:\n",
    "            if i == sampquery:\n",
    "                samplst.append(i)\n",
    "            else: continue\n",
    "    elif modifquery == 'Starts with':\n",
    "        for i  in samplelist:\n",
    "            i = str(i)\n",
    "            if i.startswith(sampquery) == True:\n",
    "                samplst.append(i)\n",
    "            else: continue\n",
    "    elif modifquery == 'Ends with':\n",
    "        for i in samplist:\n",
    "            i = str(i)\n",
    "            if i.endswith(sampquery) == True:\n",
    "                samplst.append(i)\n",
    "            else: continue\n",
    "    elif modifquery == 'not':\n",
    "        for i in samplelist:\n",
    "            if i != sampquery:\n",
    "                samplst.append(i)\n",
    "    else: print \"Incorrect modifier given.\"\n",
    "\n",
    "\n",
    "def samplelist_writer(samplst):\n",
    "    if len(samplst) == 0:\n",
    "        print \"Looks like that sample is not in the list given.\"\n",
    "    else:\n",
    "        outfile = open((sampquery + \"_\" + modifquery + \"_\" + \"list.txt\"), \"w\")\n",
    "\n",
    "        lstdump = json.dumps(samplst) # Converts the list made by v.samples() to a writable string\n",
    "\n",
    "        outfile.write(samplst) # Write list created to fiLe\n",
    "\n",
    "        outfile.close()\n",
    "\n",
    "        return samplst\n"
   ]
  },
  {
   "cell_type": "code",
   "execution_count": 7,
   "metadata": {
    "collapsed": false
   },
   "outputs": [
    {
     "ename": "Exception",
     "evalue": "bad path: ~/Documents/CDH_WGS/Data/VCFs/GATK_UGP/FQF_Pipeline.GVCF.1.0.0_Final_Backgrounds_Longevity.vcf.gz",
     "output_type": "error",
     "traceback": [
      "\u001b[0;31m---------------------------------------------------------------------------\u001b[0m",
      "\u001b[0;31mException\u001b[0m                                 Traceback (most recent call last)",
      "\u001b[0;32m<ipython-input-7-eb3a8a88c52d>\u001b[0m in \u001b[0;36m<module>\u001b[0;34m()\u001b[0m\n\u001b[0;32m----> 1\u001b[0;31m \u001b[0mget_samplst\u001b[0m\u001b[0;34m(\u001b[0m\u001b[0mget_all_vcfsamples\u001b[0m\u001b[0;34m(\u001b[0m\u001b[0;34m\"~/Documents/CDH_WGS/Data/VCFs/GATK_UGP/FQF_Pipeline.GVCF.1.0.0_Final_Backgrounds_Longevity.vcf.gz\"\u001b[0m\u001b[0;34m)\u001b[0m\u001b[0;34m)\u001b[0m\u001b[0;34m\u001b[0m\u001b[0m\n\u001b[0m",
      "\u001b[0;32m<ipython-input-3-d5422537a9e3>\u001b[0m in \u001b[0;36mget_all_vcfsamples\u001b[0;34m(vcfile)\u001b[0m\n\u001b[1;32m     14\u001b[0m     \u001b[0;31m#vcfile = input(\"Path and name of vcf file to get samples from. Must be typed correctly. /n\") # Makes you type in the name of the vcf file you are grabbing sample names from, should change at some point to make more robust\u001b[0m\u001b[0;34m\u001b[0m\u001b[0;34m\u001b[0m\u001b[0m\n\u001b[1;32m     15\u001b[0m \u001b[0;34m\u001b[0m\u001b[0m\n\u001b[0;32m---> 16\u001b[0;31m     \u001b[0mv\u001b[0m \u001b[0;34m=\u001b[0m \u001b[0mVCF\u001b[0m\u001b[0;34m(\u001b[0m\u001b[0mvcfile\u001b[0m\u001b[0;34m)\u001b[0m \u001b[0;31m# Read in as vcf to cyvcf2\u001b[0m\u001b[0;34m\u001b[0m\u001b[0m\n\u001b[0m\u001b[1;32m     17\u001b[0m \u001b[0;34m\u001b[0m\u001b[0m\n\u001b[1;32m     18\u001b[0m     \u001b[0msampl\u001b[0m \u001b[0;34m=\u001b[0m \u001b[0mv\u001b[0m\u001b[0;34m.\u001b[0m\u001b[0msamples\u001b[0m\u001b[0;34m(\u001b[0m\u001b[0;34m)\u001b[0m \u001b[0;31m# Cyvcf2 attribute pulls out sample names and creates a list\u001b[0m\u001b[0;34m\u001b[0m\u001b[0m\n",
      "\u001b[0;32m/Users/kardonlab/anaconda2/lib/python2.7/site-packages/cyvcf2/cyvcf2.pyx\u001b[0m in \u001b[0;36mcyvcf2.cyvcf2.VCF.__init__ (cyvcf2/cyvcf2.c:6952)\u001b[0;34m()\u001b[0m\n\u001b[1;32m    145\u001b[0m             \u001b[0mfname\u001b[0m \u001b[0;34m=\u001b[0m \u001b[0;34m\"/dev/stdin\"\u001b[0m\u001b[0;34m\u001b[0m\u001b[0m\n\u001b[1;32m    146\u001b[0m         \u001b[0;32mif\u001b[0m \u001b[0;32mnot\u001b[0m \u001b[0mop\u001b[0m\u001b[0;34m.\u001b[0m\u001b[0mexists\u001b[0m\u001b[0;34m(\u001b[0m\u001b[0mfname\u001b[0m\u001b[0;34m)\u001b[0m\u001b[0;34m:\u001b[0m\u001b[0;34m\u001b[0m\u001b[0m\n\u001b[0;32m--> 147\u001b[0;31m             \u001b[0;32mraise\u001b[0m \u001b[0mException\u001b[0m\u001b[0;34m(\u001b[0m\u001b[0;34m\"bad path: %s\"\u001b[0m \u001b[0;34m%\u001b[0m \u001b[0mfname\u001b[0m\u001b[0;34m)\u001b[0m\u001b[0;34m\u001b[0m\u001b[0m\n\u001b[0m\u001b[1;32m    148\u001b[0m         \u001b[0mself\u001b[0m\u001b[0;34m.\u001b[0m\u001b[0mhts\u001b[0m \u001b[0;34m=\u001b[0m \u001b[0mhts_open\u001b[0m\u001b[0;34m(\u001b[0m\u001b[0mfname\u001b[0m\u001b[0;34m.\u001b[0m\u001b[0mencode\u001b[0m\u001b[0;34m(\u001b[0m\u001b[0;34m)\u001b[0m\u001b[0;34m,\u001b[0m \u001b[0mmode\u001b[0m\u001b[0;34m.\u001b[0m\u001b[0mencode\u001b[0m\u001b[0;34m(\u001b[0m\u001b[0;34m)\u001b[0m\u001b[0;34m)\u001b[0m\u001b[0;34m\u001b[0m\u001b[0m\n\u001b[1;32m    149\u001b[0m         \u001b[0mcdef\u001b[0m \u001b[0mbcf_hdr_t\u001b[0m \u001b[0;34m*\u001b[0m\u001b[0mhdr\u001b[0m\u001b[0;34m\u001b[0m\u001b[0m\n",
      "\u001b[0;31mException\u001b[0m: bad path: ~/Documents/CDH_WGS/Data/VCFs/GATK_UGP/FQF_Pipeline.GVCF.1.0.0_Final_Backgrounds_Longevity.vcf.gz"
     ]
    }
   ],
   "source": [
    "get_samplst(get_all_vcfsamples(\"~/Documents/CDH_WGS/Data/VCFs/GATK_UGP/FQF_Pipeline.GVCF.1.0.0_Final_Backgrounds_Longevity.vcf.gz\"))"
   ]
  },
  {
   "cell_type": "code",
   "execution_count": null,
   "metadata": {
    "collapsed": true
   },
   "outputs": [],
   "source": [
    "VCF."
   ]
  },
  {
   "cell_type": "code",
   "execution_count": null,
   "metadata": {
    "collapsed": true
   },
   "outputs": [],
   "source": []
  }
 ],
 "metadata": {
  "anaconda-cloud": {},
  "kernelspec": {
   "display_name": "Python [Root]",
   "language": "python",
   "name": "Python [Root]"
  },
  "language_info": {
   "codemirror_mode": {
    "name": "ipython",
    "version": 2
   },
   "file_extension": ".py",
   "mimetype": "text/x-python",
   "name": "python",
   "nbconvert_exporter": "python",
   "pygments_lexer": "ipython2",
   "version": "2.7.12"
  }
 },
 "nbformat": 4,
 "nbformat_minor": 0
}
