{
 "cells": [
  {
   "cell_type": "code",
   "execution_count": 6,
   "metadata": {
    "collapsed": false
   },
   "outputs": [],
   "source": [
    "from cyvcf2 import VCF\n",
    "import os.path\n",
    "import sys\n",
    "import os\n",
    "\n",
    "\n",
    "\n",
    "##Using lines from Tom's de_novo scripts on Github, cloned 7-12-16\n",
    "\n",
    "def get_all_vcfsamples(vcfile):\n",
    "    ###This will give a full list of the samples in the given vcf file###\n",
    "    VCF_PATH = os.path.join(\"/Users/kardonlab/Documents/CDH_WGS/Data/VCFs/GATK_UGP/\", vcfile)\n",
    "\n",
    "    #vcfile = input(\"Path and name of vcf file to get samples from. Must be typed correctly. /n\") # Makes you type in the name of the vcf file you are grabbing sample names from, should change at some point to make more robust\n",
    "\n",
    "    v = VCF(VCF_PATH) # Read in as vcf to cyvcf2\n",
    "    \n",
    "    sampl = v.samples # Cyvcf2 attribute pulls out sample names and creates a list\n",
    "\n",
    "    outfile = open((vcfile + \"_\" + \"samples.txt\"), \"w\") # Print and write the list as a text file to be used for other stuff\n",
    "    outfile.write(list(sampl))\n",
    "    \n",
    "    return sampl\n",
    "\n",
    "\n",
    "def get_samplelist(samplelist):\n",
    "    ###This will allow you to create a narrowed list of samples that can then be passed to cyvcf2 functions###\n",
    "\n",
    "    samplst = []\n",
    "\n",
    "    sampquery = str(input(\"What sample(s) do you want? \"))\n",
    "\n",
    "    modifquery = str(input(\"Please specify 'Exact', 'Starts with', 'Ends with' or 'not' to pull samples \"))\n",
    "\n",
    "    if modifquery == 'Exact':\n",
    "        for i in samplelist:\n",
    "            if i == sampquery:\n",
    "                samplst.append()\n",
    "            else: continue\n",
    "    if modifquery == 'Starts with':\n",
    "        for i  in samplelist:\n",
    "            i = str(i)\n",
    "            if i.startswith(sampquery) == True:\n",
    "                samplst.append()\n",
    "            else: continue\n",
    "    if modifquery == 'Ends with':\n",
    "        for i in samplist:\n",
    "            i = str(i)\n",
    "            if i.endswith(sampquery) == True:\n",
    "                samplst.append()\n",
    "            else: continue\n",
    "    if modifquery == 'not':\n",
    "        for i in samplelist:\n",
    "            if i != sampquery:\n",
    "                samplst.append()\n",
    "    else: print \"Incorrect modifier given.\"\n",
    "\n",
    "    if len(samplst) == 0:\n",
    "        print \"Looks like that sample is not in the list given.\"\n",
    "    else:\n",
    "        outfile = open((sampquery + \"_\" + modifquery + \"_\" + \"list.txt\"), \"w\")\n",
    "        return samplst\n"
   ]
  },
  {
   "cell_type": "code",
   "execution_count": 7,
   "metadata": {
    "collapsed": false
   },
   "outputs": [
    {
     "ename": "TypeError",
     "evalue": "expected a string or other character buffer object",
     "output_type": "error",
     "traceback": [
      "\u001b[0;31m---------------------------------------------------------------------------\u001b[0m",
      "\u001b[0;31mTypeError\u001b[0m                                 Traceback (most recent call last)",
      "\u001b[0;32m<ipython-input-7-ae6a5579957b>\u001b[0m in \u001b[0;36m<module>\u001b[0;34m()\u001b[0m\n\u001b[0;32m----> 1\u001b[0;31m \u001b[0mget_samplelist\u001b[0m\u001b[0;34m(\u001b[0m\u001b[0mget_all_vcfsamples\u001b[0m\u001b[0;34m(\u001b[0m\u001b[0;34m\"FQF_Pipeline.GVCF.1.0.0_Final_Backgrounds_Longevity.vcf.gz\"\u001b[0m\u001b[0;34m)\u001b[0m\u001b[0;34m)\u001b[0m\u001b[0;34m\u001b[0m\u001b[0m\n\u001b[0m",
      "\u001b[0;32m<ipython-input-6-09ac82379627>\u001b[0m in \u001b[0;36mget_all_vcfsamples\u001b[0;34m(vcfile)\u001b[0m\n\u001b[1;32m     19\u001b[0m \u001b[0;34m\u001b[0m\u001b[0m\n\u001b[1;32m     20\u001b[0m     \u001b[0moutfile\u001b[0m \u001b[0;34m=\u001b[0m \u001b[0mopen\u001b[0m\u001b[0;34m(\u001b[0m\u001b[0;34m(\u001b[0m\u001b[0mvcfile\u001b[0m \u001b[0;34m+\u001b[0m \u001b[0;34m\"_\"\u001b[0m \u001b[0;34m+\u001b[0m \u001b[0;34m\"samples.txt\"\u001b[0m\u001b[0;34m)\u001b[0m\u001b[0;34m,\u001b[0m \u001b[0;34m\"w\"\u001b[0m\u001b[0;34m)\u001b[0m \u001b[0;31m# Print and write the list as a text file to be used for other stuff\u001b[0m\u001b[0;34m\u001b[0m\u001b[0m\n\u001b[0;32m---> 21\u001b[0;31m     \u001b[0moutfile\u001b[0m\u001b[0;34m.\u001b[0m\u001b[0mwrite\u001b[0m\u001b[0;34m(\u001b[0m\u001b[0mlist\u001b[0m\u001b[0;34m(\u001b[0m\u001b[0msampl\u001b[0m\u001b[0;34m)\u001b[0m\u001b[0;34m)\u001b[0m\u001b[0;34m\u001b[0m\u001b[0m\n\u001b[0m\u001b[1;32m     22\u001b[0m \u001b[0;34m\u001b[0m\u001b[0m\n\u001b[1;32m     23\u001b[0m     \u001b[0;32mreturn\u001b[0m \u001b[0msampl\u001b[0m\u001b[0;34m\u001b[0m\u001b[0m\n",
      "\u001b[0;31mTypeError\u001b[0m: expected a string or other character buffer object"
     ]
    }
   ],
   "source": [
    "get_samplelist(get_all_vcfsamples(\"FQF_Pipeline.GVCF.1.0.0_Final_Backgrounds_Longevity.vcf.gz\"))"
   ]
  },
  {
   "cell_type": "code",
   "execution_count": null,
   "metadata": {
    "collapsed": true
   },
   "outputs": [],
   "source": [
    "VCF."
   ]
  }
 ],
 "metadata": {
  "anaconda-cloud": {},
  "kernelspec": {
   "display_name": "Python [Root]",
   "language": "python",
   "name": "Python [Root]"
  },
  "language_info": {
   "codemirror_mode": {
    "name": "ipython",
    "version": 2
   },
   "file_extension": ".py",
   "mimetype": "text/x-python",
   "name": "python",
   "nbconvert_exporter": "python",
   "pygments_lexer": "ipython2",
   "version": "2.7.12"
  }
 },
 "nbformat": 4,
 "nbformat_minor": 0
}
